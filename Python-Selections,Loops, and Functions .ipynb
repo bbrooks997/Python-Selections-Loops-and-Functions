{
 "cells": [
  {
   "cell_type": "code",
   "execution_count": 1,
   "id": "a7633031",
   "metadata": {},
   "outputs": [
    {
     "name": "stdout",
     "output_type": "stream",
     "text": [
      "Enter a positive integer: 10\n",
      "The sum of the first 10 positive integers is 37.\n"
     ]
    }
   ],
   "source": [
    "# QUESTION 1 \n",
    "def main():\n",
    "    try:\n",
    "        ## ask user to type in number \n",
    "        n = int(input(\"Enter a positive integer: \"))\n",
    "     \n",
    "        if n <= 0:\n",
    "            ## if the number is less than or equal to zero \n",
    "            print(\"You have entered an invalid number. Exiting the program.\")\n",
    "        else:\n",
    "            \n",
    "            result = sum(i for i in range(1, n + 1) if i % 3 != 0)\n",
    "           ## if positive calculate the sum \n",
    "            print(f\"The sum of the first {n} positive integers is {result}.\")\n",
    "    \n",
    "    except ValueError:\n",
    "          ## just in case if the user puts in an invalid input \n",
    "        print(\"Invalid input. Please enter a valid positive integer. Exiting the program.\")\n",
    "\n",
    "\n",
    "main()\n"
   ]
  },
  {
   "cell_type": "code",
   "execution_count": 1,
   "id": "32d66bf0",
   "metadata": {},
   "outputs": [
    {
     "name": "stdout",
     "output_type": "stream",
     "text": [
      "The sum 1/1! + 1/2! + ... + 1/10! is approximately: 1.7182818011463847\n",
      "The sum 1/1! + 1/2! + ... + 1/100! is approximately: 1.7182818284590453\n",
      "The sum 1/1! + 1/2! + ... + 1/1000! is approximately: 1.7182818284590453\n",
      "The sum 1/1! + 1/2! + ... + 1/10000! is approximately: 1.7182818284590453\n",
      "I find that the sum of the inverses of factorials for large values of n approaches the value of e-1.  -2\n"
     ]
    }
   ],
   "source": [
    "# QUESTION 2 PART A  \n",
    "## Function to calculate factorial \n",
    "\n",
    "def factorial(n):\n",
    "    \n",
    "    if n < 1:\n",
    "        return \"Error: n must be a positive integer.\"\n",
    "    fact = 1  \n",
    "    \n",
    "    for x in range(2, n+1):\n",
    "        fact *= x\n",
    "        \n",
    "    return fact\n",
    "\n",
    "#################################################################################################################################################################\n",
    "# QUESTION 2 PART B \n",
    "## Function to calculate sum of inversers of factorials \n",
    "\n",
    "def sum_of_inverse_factorials(n):\n",
    "    sum_inverse = 0.0 \n",
    "    \n",
    "    for x in range(1, n+1):\n",
    "        sum_inverse += 1 / factorial(x)\n",
    "        \n",
    "    return sum_inverse\n",
    "\n",
    "\n",
    "## Calculating for any number in the 5 digits is time consuming and takes heavy usage on RAM and CPU processing when putting n = 10000\n",
    "## import the sys method to calculate large n numbers \n",
    "import sys\n",
    "\n",
    "def sum_of_inverse_factorials_approx(n):\n",
    "    sum_inverse = 0.0\n",
    "    term = 1.0\n",
    "    \n",
    "    for x in range(1, n+1):\n",
    "        term /= x\n",
    "        \n",
    "        if term < sys.float_info.epsilon:\n",
    "            break\n",
    "        sum_inverse += term\n",
    "        \n",
    "    return sum_inverse\n",
    "\n",
    "#################################################################################################################################################################\n",
    "\n",
    "# QUESTION 2 PART C \n",
    "## Calculate and print the results for different values of n\n",
    "\n",
    "results = {n: sum_of_inverse_factorials_approx(n) for n in [10, 100, 1000, 10000]}\n",
    "\n",
    "## Display the findings\n",
    "for n, result in results.items():\n",
    "    \n",
    "    print(f\"The sum 1/1! + 1/2! + ... + 1/{n}! is approximately: {result}\")\n",
    "\n",
    "#################################################################################################################################################################\n",
    "\n",
    "# QUESTION 2 PART D  \n",
    "# Note about the constant e\n",
    "\n",
    "print(\"I find that the sum of the inverses of factorials for large values of n approaches the value of e-1.  -2\")"
   ]
  },
  {
   "cell_type": "code",
   "execution_count": null,
   "id": "72d651d7",
   "metadata": {},
   "outputs": [],
   "source": []
  }
 ],
 "metadata": {
  "kernelspec": {
   "display_name": "Python 3 (ipykernel)",
   "language": "python",
   "name": "python3"
  },
  "language_info": {
   "codemirror_mode": {
    "name": "ipython",
    "version": 3
   },
   "file_extension": ".py",
   "mimetype": "text/x-python",
   "name": "python",
   "nbconvert_exporter": "python",
   "pygments_lexer": "ipython3",
   "version": "3.11.5"
  }
 },
 "nbformat": 4,
 "nbformat_minor": 5
}
